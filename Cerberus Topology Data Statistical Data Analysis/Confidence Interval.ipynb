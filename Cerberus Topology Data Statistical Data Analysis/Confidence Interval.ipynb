{
 "cells": [
  {
   "cell_type": "code",
   "execution_count": 1,
   "metadata": {},
   "outputs": [],
   "source": [
    "# Umut Ekin Gezer   03716498\n",
    "import pandas as pd\n",
    "import numpy as np\n",
    "import matplotlib.pyplot as plt\n",
    "\n",
    "\n",
    "\n",
    "flow_data = pd.read_csv('flowcompletion_data.csv')"
   ]
  },
  {
   "cell_type": "markdown",
   "metadata": {},
   "source": [
    "Calculation of population mean, count, standard deviation and median"
   ]
  },
  {
   "cell_type": "code",
   "execution_count": 2,
   "metadata": {},
   "outputs": [],
   "source": [
    "pop_mean = flow_data['completion_time'].mean()\n",
    "pop_count = len(flow_data['completion_time'])\n",
    "pop_std = flow_data['completion_time'].std()\n",
    "pop_median=flow_data['completion_time'].median()"
   ]
  },
  {
   "cell_type": "markdown",
   "metadata": {},
   "source": [
    "I took 100 sample of each simulation id and algorithm id to conduct Confidence Intervall test"
   ]
  },
  {
   "cell_type": "code",
   "execution_count": 3,
   "metadata": {},
   "outputs": [],
   "source": [
    "sample_values=flow_data.groupby(by=[\"simulation_id\",\"algorithm_id\"])['completion_time'].apply(lambda x: x.sample(100)).reset_index(drop=True)\n"
   ]
  },
  {
   "cell_type": "markdown",
   "metadata": {},
   "source": [
    "Here is the sample values, there are total 30 groups and each group includes 100 samples"
   ]
  },
  {
   "cell_type": "code",
   "execution_count": 4,
   "metadata": {},
   "outputs": [
    {
     "name": "stdout",
     "output_type": "stream",
     "text": [
      "0       157880.4616\n",
      "1          300.4480\n",
      "2         1079.5776\n",
      "3          401.4960\n",
      "4          580.8808\n",
      "           ...     \n",
      "2995       385.7128\n",
      "2996       403.2480\n",
      "2997      2168.9224\n",
      "2998      1703.1760\n",
      "2999      1507.5448\n",
      "Name: completion_time, Length: 3000, dtype: float64\n"
     ]
    }
   ],
   "source": [
    "print(sample_values)"
   ]
  },
  {
   "cell_type": "markdown",
   "metadata": {},
   "source": [
    "I calculate mean,count, standard deviation each of sample data\n",
    "    "
   ]
  },
  {
   "cell_type": "code",
   "execution_count": 5,
   "metadata": {},
   "outputs": [],
   "source": [
    "mean_df = flow_data.groupby(by=[\"simulation_id\",\"algorithm_id\"])['completion_time'].mean().to_frame(name = 'mean_time').reset_index()\n",
    "std_df=flow_data.groupby(by=[\"simulation_id\",\"algorithm_id\"])['completion_time'].std().to_frame(name = 'std_time').reset_index()"
   ]
  },
  {
   "cell_type": "markdown",
   "metadata": {},
   "source": [
    "I merged all information in \"results\" dataframe"
   ]
  },
  {
   "cell_type": "code",
   "execution_count": 6,
   "metadata": {},
   "outputs": [],
   "source": [
    "results=pd.concat([mean_df,std_df[\"std_time\"]],axis=1)"
   ]
  },
  {
   "cell_type": "code",
   "execution_count": 7,
   "metadata": {},
   "outputs": [
    {
     "name": "stdout",
     "output_type": "stream",
     "text": [
      "    simulation_id  algorithm_id     mean_time       std_time\n",
      "0             904             8  26242.263465   87942.240552\n",
      "1             909             8  27192.605234   87962.901918\n",
      "2             914             8  33145.973159   93281.204827\n",
      "3             952            14  18993.889209   80274.289625\n",
      "4             953            14  19332.347864   78762.953849\n",
      "5             954            14  22445.019312   81229.450887\n",
      "6            1020            18  19308.411174   84799.124694\n",
      "7            1022            18  19876.670717   83270.959669\n",
      "8            1024            18  22843.440396   85241.572022\n",
      "9            1068            19  19102.616134   81420.675156\n",
      "10           1069            19  19530.597065   79956.952409\n",
      "11           1070            19  22478.948275   82009.606532\n",
      "12           1164            25  43248.974257  125218.224614\n",
      "13           1165            26  34937.162318   97990.522819\n",
      "14           1166            27  34390.495417   96395.121577\n",
      "15           1167            25  47292.943289  129729.245822\n",
      "16           1168            26  38244.597965  102996.144585\n",
      "17           1169            27  36705.142686   98203.540971\n",
      "18           1170            25  53277.846387  129756.006393\n",
      "19           1171            26  45022.817759  107717.022704\n",
      "20           1172            27  44308.622195  105172.288745\n",
      "21           1194            28  20514.358183   91671.736833\n",
      "22           1196            28  21038.259475   89741.403107\n",
      "23           1197            29  20080.583842   81779.719817\n",
      "24           1198            28  24496.227765   91701.015226\n",
      "25           1199            29  23554.583654   84366.389366\n",
      "26           1212            30  19279.504376   81157.193435\n",
      "27           1213            30  19929.097567   79609.836220\n",
      "28           1229            30  20384.734594   84204.642699\n",
      "29           1236            29  20075.942578   81145.666884\n"
     ]
    }
   ],
   "source": [
    "print(results)"
   ]
  },
  {
   "cell_type": "code",
   "execution_count": 8,
   "metadata": {},
   "outputs": [],
   "source": [
    "#In order to avoid mathematical failures I also convert the values into the numpy array.\n",
    "\n",
    "sample_mean=np.array(mean_df['mean_time'])\n",
    "sample_std=np.array(std_df['std_time'])"
   ]
  },
  {
   "cell_type": "markdown",
   "metadata": {},
   "source": [
    "Below I show Population mean, count, standard deviation and sample mean, count and standard deviation"
   ]
  },
  {
   "cell_type": "code",
   "execution_count": 9,
   "metadata": {},
   "outputs": [
    {
     "name": "stdout",
     "output_type": "stream",
     "text": [
      "Population mean: 27974.943164078268\n",
      "Population standar deviation: 93871.38586434633\n",
      "********************************************\n",
      "Sample mean list: [26242.26346461 27192.60523446 33145.9731591  18993.88920913\n",
      " 19332.34786424 22445.01931187 19308.41117367 19876.67071735\n",
      " 22843.44039623 19102.61613404 19530.59706474 22478.94827543\n",
      " 43248.97425664 34937.16231778 34390.4954171  47292.94328924\n",
      " 38244.59796537 36705.1426855  53277.8463871  45022.81775894\n",
      " 44308.62219469 20514.3581835  21038.25947503 20080.58384194\n",
      " 24496.2277648  23554.58365419 19279.50437571 19929.09756719\n",
      " 20384.73459448 20075.94257821]\n",
      "Sample standart deviation list: [ 87942.24055205  87962.90191835  93281.20482652  80274.28962482\n",
      "  78762.95384894  81229.45088723  84799.12469392  83270.95966912\n",
      "  85241.5720218   81420.67515622  79956.95240926  82009.60653241\n",
      " 125218.22461441  97990.52281862  96395.12157734 129729.24582167\n",
      " 102996.1445853   98203.54097058 129756.00639306 107717.0227039\n",
      " 105172.28874456  91671.73683324  89741.40310664  81779.71981655\n",
      "  91701.01522624  84366.38936592  81157.19343462  79609.83622032\n",
      "  84204.64269856  81145.66688377]\n"
     ]
    }
   ],
   "source": [
    "print(\"Population mean:\",pop_mean)\n",
    "print(\"Population standar deviation:\",pop_std)\n",
    "print(\"********************************************\")\n",
    "print(\"Sample mean list:\",sample_mean)\n",
    "print(\"Sample standart deviation list:\",sample_std)\n"
   ]
  },
  {
   "cell_type": "markdown",
   "metadata": {},
   "source": [
    "Here is the distribution sample means of each 30 groups"
   ]
  },
  {
   "cell_type": "code",
   "execution_count": 10,
   "metadata": {},
   "outputs": [
    {
     "data": {
      "image/png": "[encoded data removed]",
      "text/plain": [
       "<Figure size 432x288 with 1 Axes>"
      ]
     },
     "metadata": {
      "needs_background": "light"
     },
     "output_type": "display_data"
    }
   ],
   "source": [
    "import seaborn as sns\n",
    "\n",
    "sns.distplot(sample_mean)\n",
    "plt.title(\"Distribution of Sample Means ($n=100$) of Completion Time in S\", y=1.015, fontsize=20)\n",
    "plt.xlabel(\"sample mean completion time [s]\", labelpad=14)\n",
    "plt.ylabel(\"frequency of occurence\", labelpad=14);\n",
    "plt.savefig('Distribution of Sample Means of Completion Time in S.png')\n",
    "plt.show()"
   ]
  },
  {
   "cell_type": "markdown",
   "metadata": {},
   "source": [
    "This distribution of sample means looks left skewed. But no outliers. The simple random samples are independent and success failure condition is satisfied"
   ]
  },
  {
   "cell_type": "markdown",
   "metadata": {},
   "source": [
    "# I calculate Mean of Sample Means,Median of Sample Means,Standard Deviation of Sample Means:"
   ]
  },
  {
   "cell_type": "code",
   "execution_count": 11,
   "metadata": {},
   "outputs": [
    {
     "name": "stdout",
     "output_type": "stream",
     "text": [
      "Mean of sample means:  27909.15587707604\n",
      "Median of sample means:  22661.194335828277\n",
      "Standard Deviation of sample means:  10160.30644589403\n"
     ]
    }
   ],
   "source": [
    "mean_of_sample_means=np.mean(sample_mean)\n",
    "median_of_sample_means = np.median(sample_mean)\n",
    "std_dev_of_sample_means = np.std(sample_mean)\n",
    "\n",
    "print(\"Mean of sample means: \",mean_of_sample_means)\n",
    "print(\"Median of sample means: \",median_of_sample_means)\n",
    "print(\"Standard Deviation of sample means: \",std_dev_of_sample_means)"
   ]
  },
  {
   "cell_type": "markdown",
   "metadata": {},
   "source": [
    "# Standard Error (SE) calculation:"
   ]
  },
  {
   "cell_type": "code",
   "execution_count": 12,
   "metadata": {},
   "outputs": [
    {
     "name": "stdout",
     "output_type": "stream",
     "text": [
      "Standart_error is:  9387.138586434634\n"
     ]
    }
   ],
   "source": [
    "\n",
    "n=100 #sample_size=100\n",
    "\n",
    "standard_error = pop_std/np.sqrt(n)\n",
    "print(\"Standart_error is: \",standard_error)"
   ]
  },
  {
   "cell_type": "markdown",
   "metadata": {},
   "source": [
    "# Example of the group of simulation_id=904 , algorithm_id=8 sample mean\n",
    "\n",
    "\n",
    "\n",
    "\n"
   ]
  },
  {
   "cell_type": "code",
   "execution_count": 13,
   "metadata": {},
   "outputs": [
    {
     "data": {
      "image/png": "[encoded data removed]",
      "text/plain": [
       "<Figure size 432x288 with 1 Axes>"
      ]
     },
     "metadata": {
      "needs_background": "light"
     },
     "output_type": "display_data"
    }
   ],
   "source": [
    "alg8_id904_sample_mean=results.iloc[0,2]\n",
    "sns.distplot(sample_mean)\n",
    "plt.title(\"Distribution of Sample Means ($n=100$) of Simulations in Completion_time(s) \", y=1.015, fontsize=20)\n",
    "plt.axvline(x=alg8_id904_sample_mean, linestyle='--', linewidth=2.5, label=\"sample mean of simulation_id=904 , algorithm_id=8\", c='orange')\n",
    "plt.xlabel(\"sample mean  Completion_time(s) \", labelpad=1)\n",
    "plt.ylabel(\"frequency of occurence\", labelpad=14)\n",
    "plt.legend()\n",
    "plt.savefig('Distribution of Sample Means of Completion Time in S with sample_mean.png')\n",
    "plt.show()"
   ]
  },
  {
   "cell_type": "markdown",
   "metadata": {},
   "source": [
    "# Z_score calculation of  group of simulation_id=904 , algorithm_id=8 "
   ]
  },
  {
   "cell_type": "code",
   "execution_count": 14,
   "metadata": {},
   "outputs": [
    {
     "name": "stdout",
     "output_type": "stream",
     "text": [
      "Z-score of group of simulation_id=904 , algorithm_id=8 : -0.1775719402793341\n",
      "The probability of getting a sample mean less than group of simulation_id=904 , algorithm_id=8 sample mean is 0.43\n"
     ]
    }
   ],
   "source": [
    "from scipy import stats\n",
    "z_score = (alg8_id904_sample_mean - mean_of_sample_means)/standard_error\n",
    "prop_values_less_than_904_8_sample_mean =  round(stats.norm.cdf(z_score), 3)\n",
    "print(\"Z-score of group of simulation_id=904 , algorithm_id=8 :\",z_score)\n",
    "print(\"The probability of getting a sample mean less than group of simulation_id=904 , algorithm_id=8 sample mean is {0}\".format(prop_values_less_than_904_8_sample_mean))"
   ]
  },
  {
   "cell_type": "markdown",
   "metadata": {},
   "source": [
    "# Calculate every z-score:"
   ]
  },
  {
   "cell_type": "code",
   "execution_count": 15,
   "metadata": {},
   "outputs": [],
   "source": [
    "\n",
    "z_scores= (sample_mean- mean_of_sample_means)/standard_error\n",
    "z_scores=np.array(z_scores)\n",
    "results[\"z_scores\"]=z_scores.tolist() ##add results dataframe"
   ]
  },
  {
   "cell_type": "code",
   "execution_count": 16,
   "metadata": {},
   "outputs": [
    {
     "name": "stdout",
     "output_type": "stream",
     "text": [
      "    simulation_id  algorithm_id     mean_time       std_time  z_scores\n",
      "0             904             8  26242.263465   87942.240552 -0.177572\n",
      "1             909             8  27192.605234   87962.901918 -0.076333\n",
      "2             914             8  33145.973159   93281.204827  0.557872\n",
      "3             952            14  18993.889209   80274.289625 -0.949732\n",
      "4             953            14  19332.347864   78762.953849 -0.913677\n",
      "5             954            14  22445.019312   81229.450887 -0.582088\n",
      "6            1020            18  19308.411174   84799.124694 -0.916226\n",
      "7            1022            18  19876.670717   83270.959669 -0.855690\n",
      "8            1024            18  22843.440396   85241.572022 -0.539644\n",
      "9            1068            19  19102.616134   81420.675156 -0.938150\n",
      "10           1069            19  19530.597065   79956.952409 -0.892557\n",
      "11           1070            19  22478.948275   82009.606532 -0.578473\n",
      "12           1164            25  43248.974257  125218.224614  1.634131\n",
      "13           1165            26  34937.162318   97990.522819  0.748685\n",
      "14           1166            27  34390.495417   96395.121577  0.690449\n",
      "15           1167            25  47292.943289  129729.245822  2.064930\n",
      "16           1168            26  38244.597965  102996.144585  1.101022\n",
      "17           1169            27  36705.142686   98203.540971  0.937025\n",
      "18           1170            25  53277.846387  129756.006393  2.702495\n",
      "19           1171            26  45022.817759  107717.022704  1.823097\n",
      "20           1172            27  44308.622195  105172.288745  1.747014\n",
      "21           1194            28  20514.358183   91671.736833 -0.787758\n",
      "22           1196            28  21038.259475   89741.403107 -0.731948\n",
      "23           1197            29  20080.583842   81779.719817 -0.833968\n",
      "24           1198            28  24496.227765   91701.015226 -0.363575\n",
      "25           1199            29  23554.583654   84366.389366 -0.463887\n",
      "26           1212            30  19279.504376   81157.193435 -0.919306\n",
      "27           1213            30  19929.097567   79609.836220 -0.850106\n",
      "28           1229            30  20384.734594   84204.642699 -0.801567\n",
      "29           1236            29  20075.942578   81145.666884 -0.834462\n"
     ]
    }
   ],
   "source": [
    "#See again results dataframe \n",
    "print(results)"
   ]
  },
  {
   "cell_type": "code",
   "execution_count": 17,
   "metadata": {},
   "outputs": [
    {
     "data": {
      "image/png": "[encoded data removed]",
      "text/plain": [
       "<Figure size 432x288 with 1 Axes>"
      ]
     },
     "metadata": {
      "needs_background": "light"
     },
     "output_type": "display_data"
    }
   ],
   "source": [
    "#Example of the combination of simulation_id=904 , algorithm_id=8 with results.iloc[0,2]\n",
    "\n",
    "\n",
    "\n",
    "kde = stats.gaussian_kde(sample_mean)\n",
    "pos = np.linspace(np.min(sample_mean), np.max(sample_mean), 10000)\n",
    "plt.plot(pos, kde(pos), color='teal')\n",
    "shade = np.linspace(135, results.iloc[0,2], 300)\n",
    "plt.fill_between(shade, kde(shade), alpha=0.45, color='teal',)\n",
    "plt.title(\"Sample mean of group of simulation_id=904 , algorithm_id=8 greater than {0}% of sample means\\nfrom the general population\".format(round(prop_values_less_than_904_8_sample_mean*100, 2)), y=1.015, fontsize=10)\n",
    "plt.xlabel(\"sample mean completion_time in s\", labelpad=14)\n",
    "plt.ylabel(\"frequency of occurence\", labelpad=14)\n",
    "plt.savefig('Sample mean of group of simulation_id=904 , algorithm_id=8 probability.png')\n",
    "plt.show()"
   ]
  },
  {
   "cell_type": "markdown",
   "metadata": {},
   "source": [
    "# To builld 95% confidence Interval for each group, critical z_score=1.96"
   ]
  },
  {
   "cell_type": "code",
   "execution_count": 18,
   "metadata": {},
   "outputs": [],
   "source": [
    "#Critical Z-Scores:\n",
    "#95% confidence intervall thus the z-score=1.96\n",
    "\n",
    "\n",
    "\n",
    "def confidence_intervall_95(means,pop_std):\n",
    "    \n",
    "    n=100 #sample_size in data\n",
    "    \n",
    "    z_critical = stats.norm.ppf(q = 0.975)\n",
    "    standard_error = pop_std/np.sqrt(n)\n",
    "    \n",
    "    \n",
    "    confidence_intervall_list=[]\n",
    "    \n",
    "    for mean in means:\n",
    "        \n",
    "        ##upper and lower bounds calculation\n",
    "        lower_95_perc_bound = mean - z_critical *standard_error\n",
    "        upper_95_perc_bound = mean + z_critical*standard_error\n",
    "        \n",
    "        if lower_95_perc_bound < 0:  ##Completion Time cannot have negative value. Thus I replace negative values with 0 \n",
    "            lower_95_perc_bound=0\n",
    " \n",
    "        confidence_intervall=(lower_95_perc_bound,upper_95_perc_bound)\n",
    "        \n",
    "        confidence_intervall_list.append(confidence_intervall)\n",
    "    \n",
    "    return  confidence_intervall_list\n",
    "    "
   ]
  },
  {
   "cell_type": "markdown",
   "metadata": {},
   "source": [
    "See confidence Intervals"
   ]
  },
  {
   "cell_type": "code",
   "execution_count": 19,
   "metadata": {},
   "outputs": [
    {
     "name": "stdout",
     "output_type": "stream",
     "text": [
      "[(7843.80991731372, 44640.71701190995), (8794.15168715782, 45591.05878175405), (14747.519611801967, 51544.4267063982), (595.4356618328056, 37392.34275642903), (933.8943169371378, 37730.801411533364), (4046.565764571991, 40843.47285916822), (909.9576263751514, 37706.86472097138), (1478.217170055821, 38275.124264652055), (4444.986848932182, 41241.89394352841), (704.1625867459188, 37501.06968134215), (1132.1435174409307, 37929.05061203716), (4080.494728128142, 40877.40182272437), (24850.5207093415, 61647.42780393773), (16538.70877047711, 53335.61586507334), (15992.041869805027, 52788.94896440126), (28894.48974194117, 65691.3968365374), (19846.14441807069, 56643.05151266692), (18306.689138206457, 55103.59623280269), (34879.39283980218, 71676.29993439841), (26624.36421163848, 63421.27130623471), (25910.168647395927, 62707.07574199216), (2115.904636201347, 38912.81173079758), (2639.8059277360953, 39436.713022332326), (1682.1302946382166, 38479.03738923445), (6097.774217500068, 42894.6813120963), (5156.1301068937755, 41953.037201490006), (881.0508284145253, 37677.957923010756), (1530.6440198887794, 38327.55111448501), (1986.281047181703, 38783.18814177794), (1677.489030911056, 38474.396125507286)]\n"
     ]
    }
   ],
   "source": [
    "print(confidence_intervall_95(sample_mean,pop_std))"
   ]
  },
  {
   "cell_type": "markdown",
   "metadata": {},
   "source": [
    "Merge each of 95% confidence interval of groups in dataframe as column 95%_confidence_intervall"
   ]
  },
  {
   "cell_type": "code",
   "execution_count": 20,
   "metadata": {},
   "outputs": [],
   "source": [
    "\n",
    "results[\"95%_confidence_intervall\"]=confidence_intervall_95(sample_mean,pop_std)"
   ]
  },
  {
   "cell_type": "markdown",
   "metadata": {},
   "source": [
    "See 95% confidence intervalls in dataframe results"
   ]
  },
  {
   "cell_type": "code",
   "execution_count": 21,
   "metadata": {},
   "outputs": [
    {
     "name": "stdout",
     "output_type": "stream",
     "text": [
      "    simulation_id  algorithm_id     mean_time       std_time  z_scores  \\\n",
      "0             904             8  26242.263465   87942.240552 -0.177572   \n",
      "1             909             8  27192.605234   87962.901918 -0.076333   \n",
      "2             914             8  33145.973159   93281.204827  0.557872   \n",
      "3             952            14  18993.889209   80274.289625 -0.949732   \n",
      "4             953            14  19332.347864   78762.953849 -0.913677   \n",
      "5             954            14  22445.019312   81229.450887 -0.582088   \n",
      "6            1020            18  19308.411174   84799.124694 -0.916226   \n",
      "7            1022            18  19876.670717   83270.959669 -0.855690   \n",
      "8            1024            18  22843.440396   85241.572022 -0.539644   \n",
      "9            1068            19  19102.616134   81420.675156 -0.938150   \n",
      "10           1069            19  19530.597065   79956.952409 -0.892557   \n",
      "11           1070            19  22478.948275   82009.606532 -0.578473   \n",
      "12           1164            25  43248.974257  125218.224614  1.634131   \n",
      "13           1165            26  34937.162318   97990.522819  0.748685   \n",
      "14           1166            27  34390.495417   96395.121577  0.690449   \n",
      "15           1167            25  47292.943289  129729.245822  2.064930   \n",
      "16           1168            26  38244.597965  102996.144585  1.101022   \n",
      "17           1169            27  36705.142686   98203.540971  0.937025   \n",
      "18           1170            25  53277.846387  129756.006393  2.702495   \n",
      "19           1171            26  45022.817759  107717.022704  1.823097   \n",
      "20           1172            27  44308.622195  105172.288745  1.747014   \n",
      "21           1194            28  20514.358183   91671.736833 -0.787758   \n",
      "22           1196            28  21038.259475   89741.403107 -0.731948   \n",
      "23           1197            29  20080.583842   81779.719817 -0.833968   \n",
      "24           1198            28  24496.227765   91701.015226 -0.363575   \n",
      "25           1199            29  23554.583654   84366.389366 -0.463887   \n",
      "26           1212            30  19279.504376   81157.193435 -0.919306   \n",
      "27           1213            30  19929.097567   79609.836220 -0.850106   \n",
      "28           1229            30  20384.734594   84204.642699 -0.801567   \n",
      "29           1236            29  20075.942578   81145.666884 -0.834462   \n",
      "\n",
      "                    95%_confidence_intervall  \n",
      "0      (7843.80991731372, 44640.71701190995)  \n",
      "1      (8794.15168715782, 45591.05878175405)  \n",
      "2     (14747.519611801967, 51544.4267063982)  \n",
      "3     (595.4356618328056, 37392.34275642903)  \n",
      "4    (933.8943169371378, 37730.801411533364)  \n",
      "5     (4046.565764571991, 40843.47285916822)  \n",
      "6     (909.9576263751514, 37706.86472097138)  \n",
      "7    (1478.217170055821, 38275.124264652055)  \n",
      "8     (4444.986848932182, 41241.89394352841)  \n",
      "9     (704.1625867459188, 37501.06968134215)  \n",
      "10   (1132.1435174409307, 37929.05061203716)  \n",
      "11    (4080.494728128142, 40877.40182272437)  \n",
      "12     (24850.5207093415, 61647.42780393773)  \n",
      "13    (16538.70877047711, 53335.61586507334)  \n",
      "14   (15992.041869805027, 52788.94896440126)  \n",
      "15     (28894.48974194117, 65691.3968365374)  \n",
      "16    (19846.14441807069, 56643.05151266692)  \n",
      "17   (18306.689138206457, 55103.59623280269)  \n",
      "18    (34879.39283980218, 71676.29993439841)  \n",
      "19    (26624.36421163848, 63421.27130623471)  \n",
      "20   (25910.168647395927, 62707.07574199216)  \n",
      "21    (2115.904636201347, 38912.81173079758)  \n",
      "22  (2639.8059277360953, 39436.713022332326)  \n",
      "23   (1682.1302946382166, 38479.03738923445)  \n",
      "24     (6097.774217500068, 42894.6813120963)  \n",
      "25  (5156.1301068937755, 41953.037201490006)  \n",
      "26   (881.0508284145253, 37677.957923010756)  \n",
      "27   (1530.6440198887794, 38327.55111448501)  \n",
      "28    (1986.281047181703, 38783.18814177794)  \n",
      "29   (1677.489030911056, 38474.396125507286)  \n"
     ]
    }
   ],
   "source": [
    "print(results)"
   ]
  },
  {
   "cell_type": "markdown",
   "metadata": {},
   "source": [
    "Example of group of simulation_id=904 , algorithm_id=8 95% of confidence intervall on the sample means distribution\n",
    "lower_bound is confidence_intervall_95(sample_mean,pop_std)[0][0],upper_bound is confidence_intervall_95(sample_mean,pop_std)[0][1]"
   ]
  },
  {
   "cell_type": "code",
   "execution_count": 22,
   "metadata": {},
   "outputs": [
    {
     "data": {
      "image/png": "[encoded data removed]",
      "text/plain": [
       "<Figure size 432x288 with 1 Axes>"
      ]
     },
     "metadata": {
      "needs_background": "light"
     },
     "output_type": "display_data"
    }
   ],
   "source": [
    "\n",
    "\n",
    "sns.distplot(sample_mean, hist=False)\n",
    "plt.title(\"Distribution of Sample Means of Completion_time and simulation_id=904 , algorithm_id=8 95% of lower and upper bound\", y=1.015, fontsize=10)\n",
    "plt.axvline(x=results.iloc[0,2], linestyle='--', linewidth=2.5, label=\"sample mean of simulation_id=904 , algorithm_id=8 \", c='orange')\n",
    "plt.axvline(x=confidence_intervall_95(sample_mean,pop_std)[0][0], linestyle='--', linewidth=2.5, label=\"lower bound 95% CI ((simulation_id=904 , algorithm_id=8).mean - 1.96*SE)\", c='g')\n",
    "plt.axvline(x=confidence_intervall_95(sample_mean,pop_std)[0][1], linestyle='--', linewidth=2.5, label=\"upper bound 95% CI ((simulation_id=904 , algorithm_id=8).mean+ 1.96*SE)\", c='purple')\n",
    "plt.xlabel(\"sample mean of completion_time\", labelpad=14)\n",
    "plt.ylabel(\"frequency of occurence\", labelpad=14)\n",
    "plt.legend(bbox_to_anchor=(1.01, 1), loc=\"upper left\")\n",
    "plt.savefig('Lower and upper bound of group of simulation_id=904 , algorithm_id=8 probability.png')\n",
    "plt.show()\n"
   ]
  },
  {
   "cell_type": "markdown",
   "metadata": {},
   "source": [
    "# Plot of each of groups of confidence Intervals"
   ]
  },
  {
   "cell_type": "code",
   "execution_count": 23,
   "metadata": {},
   "outputs": [
    {
     "data": {
      "image/png": "[encoded data removed]",
      "text/plain": [
       "<Figure size 1440x648 with 1 Axes>"
      ]
     },
     "metadata": {
      "needs_background": "light"
     },
     "output_type": "display_data"
    }
   ],
   "source": [
    "t_b_mean_list=[]\n",
    "\n",
    "for bot,top in results[\"95%_confidence_intervall\"]:\n",
    "    \n",
    "    t_b_mean=(top-bot)/2\n",
    "    t_b_mean_list.append(t_b_mean)  \n",
    "\n",
    "\n",
    "plt.figure(figsize=(20,9))\n",
    "\n",
    "plt.errorbar(x=results[\"mean_time\"].index, \n",
    "             y=results[\"mean_time\"],yerr=t_b_mean_list,fmt='o')\n",
    "\n",
    "plt.hlines(xmin=0, xmax=30,\n",
    "           y=pop_mean, \n",
    "           linewidth=2.0,\n",
    "           color=\"red\");\n",
    "plt.text(30, 100000, \"The numbers on X-axis represent each group of algorithm-id and simulation-id\" ,ha=\"right\", \n",
    "         va=\"center\", size=10,fontdict={'weight': 'bold', 'size': 5})\n",
    "plt.ylabel(\"Completion Times in s\", labelpad=14)\n",
    "plt.xlabel(\"Confidence Intervals of each algorithm-id and simulation-id groups\", labelpad=14)\n",
    "\n",
    "plt.savefig('Confidence_Intervall.png')\n",
    "plt.show()"
   ]
  },
  {
   "cell_type": "code",
   "execution_count": 24,
   "metadata": {},
   "outputs": [
    {
     "data": {
      "text/html": [
       "<div>\n",
       "<style scoped>\n",
       "    .dataframe tbody tr th:only-of-type {\n",
       "        vertical-align: middle;\n",
       "    }\n",
       "\n",
       "    .dataframe tbody tr th {\n",
       "        vertical-align: top;\n",
       "    }\n",
       "\n",
       "    .dataframe thead th {\n",
       "        text-align: right;\n",
       "    }\n",
       "</style>\n",
       "<table border=\"1\" class=\"dataframe\">\n",
       "  <thead>\n",
       "    <tr style=\"text-align: right;\">\n",
       "      <th></th>\n",
       "      <th>simulation_id</th>\n",
       "      <th>algorithm_id</th>\n",
       "      <th>mean_time</th>\n",
       "      <th>std_time</th>\n",
       "      <th>z_scores</th>\n",
       "      <th>95%_confidence_intervall</th>\n",
       "    </tr>\n",
       "  </thead>\n",
       "  <tbody>\n",
       "    <tr>\n",
       "      <th>0</th>\n",
       "      <td>904</td>\n",
       "      <td>8</td>\n",
       "      <td>26242.263465</td>\n",
       "      <td>87942.240552</td>\n",
       "      <td>-0.177572</td>\n",
       "      <td>(7843.80991731372, 44640.71701190995)</td>\n",
       "    </tr>\n",
       "    <tr>\n",
       "      <th>1</th>\n",
       "      <td>909</td>\n",
       "      <td>8</td>\n",
       "      <td>27192.605234</td>\n",
       "      <td>87962.901918</td>\n",
       "      <td>-0.076333</td>\n",
       "      <td>(8794.15168715782, 45591.05878175405)</td>\n",
       "    </tr>\n",
       "    <tr>\n",
       "      <th>2</th>\n",
       "      <td>914</td>\n",
       "      <td>8</td>\n",
       "      <td>33145.973159</td>\n",
       "      <td>93281.204827</td>\n",
       "      <td>0.557872</td>\n",
       "      <td>(14747.519611801967, 51544.4267063982)</td>\n",
       "    </tr>\n",
       "    <tr>\n",
       "      <th>3</th>\n",
       "      <td>952</td>\n",
       "      <td>14</td>\n",
       "      <td>18993.889209</td>\n",
       "      <td>80274.289625</td>\n",
       "      <td>-0.949732</td>\n",
       "      <td>(595.4356618328056, 37392.34275642903)</td>\n",
       "    </tr>\n",
       "    <tr>\n",
       "      <th>4</th>\n",
       "      <td>953</td>\n",
       "      <td>14</td>\n",
       "      <td>19332.347864</td>\n",
       "      <td>78762.953849</td>\n",
       "      <td>-0.913677</td>\n",
       "      <td>(933.8943169371378, 37730.801411533364)</td>\n",
       "    </tr>\n",
       "    <tr>\n",
       "      <th>5</th>\n",
       "      <td>954</td>\n",
       "      <td>14</td>\n",
       "      <td>22445.019312</td>\n",
       "      <td>81229.450887</td>\n",
       "      <td>-0.582088</td>\n",
       "      <td>(4046.565764571991, 40843.47285916822)</td>\n",
       "    </tr>\n",
       "    <tr>\n",
       "      <th>6</th>\n",
       "      <td>1020</td>\n",
       "      <td>18</td>\n",
       "      <td>19308.411174</td>\n",
       "      <td>84799.124694</td>\n",
       "      <td>-0.916226</td>\n",
       "      <td>(909.9576263751514, 37706.86472097138)</td>\n",
       "    </tr>\n",
       "    <tr>\n",
       "      <th>7</th>\n",
       "      <td>1022</td>\n",
       "      <td>18</td>\n",
       "      <td>19876.670717</td>\n",
       "      <td>83270.959669</td>\n",
       "      <td>-0.855690</td>\n",
       "      <td>(1478.217170055821, 38275.124264652055)</td>\n",
       "    </tr>\n",
       "    <tr>\n",
       "      <th>8</th>\n",
       "      <td>1024</td>\n",
       "      <td>18</td>\n",
       "      <td>22843.440396</td>\n",
       "      <td>85241.572022</td>\n",
       "      <td>-0.539644</td>\n",
       "      <td>(4444.986848932182, 41241.89394352841)</td>\n",
       "    </tr>\n",
       "    <tr>\n",
       "      <th>9</th>\n",
       "      <td>1068</td>\n",
       "      <td>19</td>\n",
       "      <td>19102.616134</td>\n",
       "      <td>81420.675156</td>\n",
       "      <td>-0.938150</td>\n",
       "      <td>(704.1625867459188, 37501.06968134215)</td>\n",
       "    </tr>\n",
       "    <tr>\n",
       "      <th>10</th>\n",
       "      <td>1069</td>\n",
       "      <td>19</td>\n",
       "      <td>19530.597065</td>\n",
       "      <td>79956.952409</td>\n",
       "      <td>-0.892557</td>\n",
       "      <td>(1132.1435174409307, 37929.05061203716)</td>\n",
       "    </tr>\n",
       "    <tr>\n",
       "      <th>11</th>\n",
       "      <td>1070</td>\n",
       "      <td>19</td>\n",
       "      <td>22478.948275</td>\n",
       "      <td>82009.606532</td>\n",
       "      <td>-0.578473</td>\n",
       "      <td>(4080.494728128142, 40877.40182272437)</td>\n",
       "    </tr>\n",
       "    <tr>\n",
       "      <th>12</th>\n",
       "      <td>1164</td>\n",
       "      <td>25</td>\n",
       "      <td>43248.974257</td>\n",
       "      <td>125218.224614</td>\n",
       "      <td>1.634131</td>\n",
       "      <td>(24850.5207093415, 61647.42780393773)</td>\n",
       "    </tr>\n",
       "    <tr>\n",
       "      <th>13</th>\n",
       "      <td>1165</td>\n",
       "      <td>26</td>\n",
       "      <td>34937.162318</td>\n",
       "      <td>97990.522819</td>\n",
       "      <td>0.748685</td>\n",
       "      <td>(16538.70877047711, 53335.61586507334)</td>\n",
       "    </tr>\n",
       "    <tr>\n",
       "      <th>14</th>\n",
       "      <td>1166</td>\n",
       "      <td>27</td>\n",
       "      <td>34390.495417</td>\n",
       "      <td>96395.121577</td>\n",
       "      <td>0.690449</td>\n",
       "      <td>(15992.041869805027, 52788.94896440126)</td>\n",
       "    </tr>\n",
       "    <tr>\n",
       "      <th>15</th>\n",
       "      <td>1167</td>\n",
       "      <td>25</td>\n",
       "      <td>47292.943289</td>\n",
       "      <td>129729.245822</td>\n",
       "      <td>2.064930</td>\n",
       "      <td>(28894.48974194117, 65691.3968365374)</td>\n",
       "    </tr>\n",
       "    <tr>\n",
       "      <th>16</th>\n",
       "      <td>1168</td>\n",
       "      <td>26</td>\n",
       "      <td>38244.597965</td>\n",
       "      <td>102996.144585</td>\n",
       "      <td>1.101022</td>\n",
       "      <td>(19846.14441807069, 56643.05151266692)</td>\n",
       "    </tr>\n",
       "    <tr>\n",
       "      <th>17</th>\n",
       "      <td>1169</td>\n",
       "      <td>27</td>\n",
       "      <td>36705.142686</td>\n",
       "      <td>98203.540971</td>\n",
       "      <td>0.937025</td>\n",
       "      <td>(18306.689138206457, 55103.59623280269)</td>\n",
       "    </tr>\n",
       "    <tr>\n",
       "      <th>18</th>\n",
       "      <td>1170</td>\n",
       "      <td>25</td>\n",
       "      <td>53277.846387</td>\n",
       "      <td>129756.006393</td>\n",
       "      <td>2.702495</td>\n",
       "      <td>(34879.39283980218, 71676.29993439841)</td>\n",
       "    </tr>\n",
       "    <tr>\n",
       "      <th>19</th>\n",
       "      <td>1171</td>\n",
       "      <td>26</td>\n",
       "      <td>45022.817759</td>\n",
       "      <td>107717.022704</td>\n",
       "      <td>1.823097</td>\n",
       "      <td>(26624.36421163848, 63421.27130623471)</td>\n",
       "    </tr>\n",
       "    <tr>\n",
       "      <th>20</th>\n",
       "      <td>1172</td>\n",
       "      <td>27</td>\n",
       "      <td>44308.622195</td>\n",
       "      <td>105172.288745</td>\n",
       "      <td>1.747014</td>\n",
       "      <td>(25910.168647395927, 62707.07574199216)</td>\n",
       "    </tr>\n",
       "    <tr>\n",
       "      <th>21</th>\n",
       "      <td>1194</td>\n",
       "      <td>28</td>\n",
       "      <td>20514.358183</td>\n",
       "      <td>91671.736833</td>\n",
       "      <td>-0.787758</td>\n",
       "      <td>(2115.904636201347, 38912.81173079758)</td>\n",
       "    </tr>\n",
       "    <tr>\n",
       "      <th>22</th>\n",
       "      <td>1196</td>\n",
       "      <td>28</td>\n",
       "      <td>21038.259475</td>\n",
       "      <td>89741.403107</td>\n",
       "      <td>-0.731948</td>\n",
       "      <td>(2639.8059277360953, 39436.713022332326)</td>\n",
       "    </tr>\n",
       "    <tr>\n",
       "      <th>23</th>\n",
       "      <td>1197</td>\n",
       "      <td>29</td>\n",
       "      <td>20080.583842</td>\n",
       "      <td>81779.719817</td>\n",
       "      <td>-0.833968</td>\n",
       "      <td>(1682.1302946382166, 38479.03738923445)</td>\n",
       "    </tr>\n",
       "    <tr>\n",
       "      <th>24</th>\n",
       "      <td>1198</td>\n",
       "      <td>28</td>\n",
       "      <td>24496.227765</td>\n",
       "      <td>91701.015226</td>\n",
       "      <td>-0.363575</td>\n",
       "      <td>(6097.774217500068, 42894.6813120963)</td>\n",
       "    </tr>\n",
       "    <tr>\n",
       "      <th>25</th>\n",
       "      <td>1199</td>\n",
       "      <td>29</td>\n",
       "      <td>23554.583654</td>\n",
       "      <td>84366.389366</td>\n",
       "      <td>-0.463887</td>\n",
       "      <td>(5156.1301068937755, 41953.037201490006)</td>\n",
       "    </tr>\n",
       "    <tr>\n",
       "      <th>26</th>\n",
       "      <td>1212</td>\n",
       "      <td>30</td>\n",
       "      <td>19279.504376</td>\n",
       "      <td>81157.193435</td>\n",
       "      <td>-0.919306</td>\n",
       "      <td>(881.0508284145253, 37677.957923010756)</td>\n",
       "    </tr>\n",
       "    <tr>\n",
       "      <th>27</th>\n",
       "      <td>1213</td>\n",
       "      <td>30</td>\n",
       "      <td>19929.097567</td>\n",
       "      <td>79609.836220</td>\n",
       "      <td>-0.850106</td>\n",
       "      <td>(1530.6440198887794, 38327.55111448501)</td>\n",
       "    </tr>\n",
       "    <tr>\n",
       "      <th>28</th>\n",
       "      <td>1229</td>\n",
       "      <td>30</td>\n",
       "      <td>20384.734594</td>\n",
       "      <td>84204.642699</td>\n",
       "      <td>-0.801567</td>\n",
       "      <td>(1986.281047181703, 38783.18814177794)</td>\n",
       "    </tr>\n",
       "    <tr>\n",
       "      <th>29</th>\n",
       "      <td>1236</td>\n",
       "      <td>29</td>\n",
       "      <td>20075.942578</td>\n",
       "      <td>81145.666884</td>\n",
       "      <td>-0.834462</td>\n",
       "      <td>(1677.489030911056, 38474.396125507286)</td>\n",
       "    </tr>\n",
       "  </tbody>\n",
       "</table>\n",
       "</div>"
      ],
      "text/plain": [
       "    simulation_id  algorithm_id     mean_time       std_time  z_scores  \\\n",
       "0             904             8  26242.263465   87942.240552 -0.177572   \n",
       "1             909             8  27192.605234   87962.901918 -0.076333   \n",
       "2             914             8  33145.973159   93281.204827  0.557872   \n",
       "3             952            14  18993.889209   80274.289625 -0.949732   \n",
       "4             953            14  19332.347864   78762.953849 -0.913677   \n",
       "5             954            14  22445.019312   81229.450887 -0.582088   \n",
       "6            1020            18  19308.411174   84799.124694 -0.916226   \n",
       "7            1022            18  19876.670717   83270.959669 -0.855690   \n",
       "8            1024            18  22843.440396   85241.572022 -0.539644   \n",
       "9            1068            19  19102.616134   81420.675156 -0.938150   \n",
       "10           1069            19  19530.597065   79956.952409 -0.892557   \n",
       "11           1070            19  22478.948275   82009.606532 -0.578473   \n",
       "12           1164            25  43248.974257  125218.224614  1.634131   \n",
       "13           1165            26  34937.162318   97990.522819  0.748685   \n",
       "14           1166            27  34390.495417   96395.121577  0.690449   \n",
       "15           1167            25  47292.943289  129729.245822  2.064930   \n",
       "16           1168            26  38244.597965  102996.144585  1.101022   \n",
       "17           1169            27  36705.142686   98203.540971  0.937025   \n",
       "18           1170            25  53277.846387  129756.006393  2.702495   \n",
       "19           1171            26  45022.817759  107717.022704  1.823097   \n",
       "20           1172            27  44308.622195  105172.288745  1.747014   \n",
       "21           1194            28  20514.358183   91671.736833 -0.787758   \n",
       "22           1196            28  21038.259475   89741.403107 -0.731948   \n",
       "23           1197            29  20080.583842   81779.719817 -0.833968   \n",
       "24           1198            28  24496.227765   91701.015226 -0.363575   \n",
       "25           1199            29  23554.583654   84366.389366 -0.463887   \n",
       "26           1212            30  19279.504376   81157.193435 -0.919306   \n",
       "27           1213            30  19929.097567   79609.836220 -0.850106   \n",
       "28           1229            30  20384.734594   84204.642699 -0.801567   \n",
       "29           1236            29  20075.942578   81145.666884 -0.834462   \n",
       "\n",
       "                    95%_confidence_intervall  \n",
       "0      (7843.80991731372, 44640.71701190995)  \n",
       "1      (8794.15168715782, 45591.05878175405)  \n",
       "2     (14747.519611801967, 51544.4267063982)  \n",
       "3     (595.4356618328056, 37392.34275642903)  \n",
       "4    (933.8943169371378, 37730.801411533364)  \n",
       "5     (4046.565764571991, 40843.47285916822)  \n",
       "6     (909.9576263751514, 37706.86472097138)  \n",
       "7    (1478.217170055821, 38275.124264652055)  \n",
       "8     (4444.986848932182, 41241.89394352841)  \n",
       "9     (704.1625867459188, 37501.06968134215)  \n",
       "10   (1132.1435174409307, 37929.05061203716)  \n",
       "11    (4080.494728128142, 40877.40182272437)  \n",
       "12     (24850.5207093415, 61647.42780393773)  \n",
       "13    (16538.70877047711, 53335.61586507334)  \n",
       "14   (15992.041869805027, 52788.94896440126)  \n",
       "15     (28894.48974194117, 65691.3968365374)  \n",
       "16    (19846.14441807069, 56643.05151266692)  \n",
       "17   (18306.689138206457, 55103.59623280269)  \n",
       "18    (34879.39283980218, 71676.29993439841)  \n",
       "19    (26624.36421163848, 63421.27130623471)  \n",
       "20   (25910.168647395927, 62707.07574199216)  \n",
       "21    (2115.904636201347, 38912.81173079758)  \n",
       "22  (2639.8059277360953, 39436.713022332326)  \n",
       "23   (1682.1302946382166, 38479.03738923445)  \n",
       "24     (6097.774217500068, 42894.6813120963)  \n",
       "25  (5156.1301068937755, 41953.037201490006)  \n",
       "26   (881.0508284145253, 37677.957923010756)  \n",
       "27   (1530.6440198887794, 38327.55111448501)  \n",
       "28    (1986.281047181703, 38783.18814177794)  \n",
       "29   (1677.489030911056, 38474.396125507286)  "
      ]
     },
     "execution_count": 24,
     "metadata": {},
     "output_type": "execute_result"
    }
   ],
   "source": [
    "results"
   ]
  },
  {
   "cell_type": "code",
   "execution_count": null,
   "metadata": {},
   "outputs": [],
   "source": []
  }
 ],
 "metadata": {
  "kernelspec": {
   "display_name": "Python 3",
   "language": "python",
   "name": "python3"
  },
  "language_info": {
   "codemirror_mode": {
    "name": "ipython",
    "version": 3
   },
   "file_extension": ".py",
   "mimetype": "text/x-python",
   "name": "python",
   "nbconvert_exporter": "python",
   "pygments_lexer": "ipython3",
   "version": "3.7.6"
  }
 },
 "nbformat": 4,
 "nbformat_minor": 4
}
